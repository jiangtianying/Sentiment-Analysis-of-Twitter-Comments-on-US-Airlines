{
 "cells": [
  {
   "cell_type": "markdown",
   "metadata": {},
   "source": [
    "# Sentiment Analysis of Twitter Comments on US Airlines\n",
    "Sentiment analysis is an important job for most US airlines. This notebook is written to build a natural language processing model to analyze sentiment based on twitter text comments on major US airlines. The data source can be found on Kaggle: https://www.kaggle.com/crowdflower/twitter-airline-sentiment. The csv file has been downloaded, which include the columns \"text\", \"airline_sentiment\". In the following cells, a model will be built to predict the sentiment (three categories: postive, neutral, negative) based on text comments. TensorFlow is used to build a model including layers of convolutional neural network, recurrent neural network and deep neural network. It has been found out that using dropout layers can significantly improve the overfitting issue. An accuracy of ~0.80 has been achived on the validation data set.\n",
    "\n",
    "## 1. Import the libraries and data set"
   ]
  },
  {
   "cell_type": "code",
   "execution_count": 1,
   "metadata": {},
   "outputs": [],
   "source": [
    "# import the libraries\n",
    "import tensorflow as tf\n",
    "import random\n",
    "import csv\n",
    "import numpy as np"
   ]
  },
  {
   "cell_type": "code",
   "execution_count": 2,
   "metadata": {},
   "outputs": [],
   "source": [
    "# import the libraries\n",
    "from tensorflow.keras.preprocessing.text import Tokenizer\n",
    "from tensorflow.keras.preprocessing.sequence import pad_sequences\n",
    "from tensorflow.keras.utils import to_categorical\n",
    "from tensorflow.keras import regularizers"
   ]
  },
  {
   "cell_type": "code",
   "execution_count": 3,
   "metadata": {},
   "outputs": [],
   "source": [
    "# Define the key parameters\n",
    "vocab_size = 10000\n",
    "embedding_dim = 100\n",
    "max_length = 120\n",
    "trunc_type = 'post'\n",
    "padding_type = 'post'\n",
    "oov_tok = '<OOV>'"
   ]
  },
  {
   "cell_type": "code",
   "execution_count": 4,
   "metadata": {},
   "outputs": [],
   "source": [
    "# Load the data\n",
    "sentences = []\n",
    "labels = []\n",
    "csvfile = open('Tweets.csv', encoding='utf8')\n",
    "\n",
    "csv_reader = csv.reader(csvfile, delimiter=',')\n",
    "next(csv_reader)    \n",
    "\n",
    "for row in csv_reader:\n",
    "    sentences.append(row[10])\n",
    "    if row[1] =='positive':\n",
    "        labels.append(2)\n",
    "    elif row[1] == 'neutral':\n",
    "        labels.append(1)\n",
    "    else:\n",
    "        labels.append(0)\n",
    "\n",
    "csvfile.close()"
   ]
  },
  {
   "cell_type": "code",
   "execution_count": 5,
   "metadata": {},
   "outputs": [
    {
     "name": "stdout",
     "output_type": "stream",
     "text": [
      "14640\n",
      "14640\n"
     ]
    }
   ],
   "source": [
    "# Check the size of the data\n",
    "print(len(sentences))\n",
    "print(len(labels))"
   ]
  },
  {
   "cell_type": "markdown",
   "metadata": {},
   "source": [
    "## 2. Split the data into training set and validation set, and preprocess the text to padded sequences\n",
    "The test portion was defined as 0.1. Therefore, the data was split into training set and validation set based on the ratio of 0.9/0.1."
   ]
  },
  {
   "cell_type": "code",
   "execution_count": 6,
   "metadata": {},
   "outputs": [
    {
     "name": "stdout",
     "output_type": "stream",
     "text": [
      "(13176,)\n",
      "(13176, 120)\n",
      "(1464,)\n",
      "(1464, 120)\n"
     ]
    }
   ],
   "source": [
    "# Split the dataset to training set and test set, transfer the sentences to sequences and pad/truncate the sequences\n",
    "tokenizer = Tokenizer()\n",
    "tokenizer.fit_on_texts(sentences)\n",
    "\n",
    "word_index = tokenizer.word_index\n",
    "vocab_size = len(word_index)\n",
    "\n",
    "\n",
    "index_list = list(range(len(sentences)))\n",
    "random.shuffle(index_list)\n",
    "\n",
    "test_portion = 0.1\n",
    "training_index = index_list[:int(len(sentences)*(1-test_portion))]\n",
    "test_index = index_list[int(len(sentences)*(1-test_portion)):]\n",
    "\n",
    "training_sentences = []\n",
    "training_labels = []\n",
    "\n",
    "test_sentences = []\n",
    "test_labels = []\n",
    "\n",
    "for n in training_index:\n",
    "    training_sentences.append(sentences[n])\n",
    "    training_labels.append(labels[n])\n",
    "    \n",
    "for n in test_index:\n",
    "    test_sentences.append(sentences[n])\n",
    "    test_labels.append(labels[n])\n",
    "\n",
    "training_sequences = tokenizer.texts_to_sequences(training_sentences)\n",
    "padded_training = pad_sequences(training_sequences, maxlen=max_length, padding=padding_type, truncating=trunc_type)\n",
    "training_labels = np.array(training_labels)\n",
    "\n",
    "test_sequences = tokenizer.texts_to_sequences(test_sentences)\n",
    "padded_test = pad_sequences(test_sequences, maxlen=max_length, padding=padding_type, truncating=trunc_type)\n",
    "test_labels = np.array(test_labels)\n",
    "\n",
    "print(np.shape(training_labels))\n",
    "print(np.shape(padded_training))\n",
    "print(np.shape(test_labels))\n",
    "print(np.shape(padded_test))"
   ]
  },
  {
   "cell_type": "markdown",
   "metadata": {},
   "source": [
    "## 3. Build and train the model "
   ]
  },
  {
   "cell_type": "code",
   "execution_count": 7,
   "metadata": {
    "scrolled": false
   },
   "outputs": [
    {
     "name": "stdout",
     "output_type": "stream",
     "text": [
      "Model: \"sequential\"\n",
      "_________________________________________________________________\n",
      "Layer (type)                 Output Shape              Param #   \n",
      "=================================================================\n",
      "embedding (Embedding)        (None, 120, 100)          1576900   \n",
      "_________________________________________________________________\n",
      "dropout (Dropout)            (None, 120, 100)          0         \n",
      "_________________________________________________________________\n",
      "conv1d (Conv1D)              (None, 116, 64)           32064     \n",
      "_________________________________________________________________\n",
      "max_pooling1d (MaxPooling1D) (None, 29, 64)            0         \n",
      "_________________________________________________________________\n",
      "bidirectional (Bidirectional (None, 64)                24832     \n",
      "_________________________________________________________________\n",
      "dropout_1 (Dropout)          (None, 64)                0         \n",
      "_________________________________________________________________\n",
      "dense (Dense)                (None, 3)                 195       \n",
      "=================================================================\n",
      "Total params: 1,633,991\n",
      "Trainable params: 1,633,991\n",
      "Non-trainable params: 0\n",
      "_________________________________________________________________\n",
      "Train on 13176 samples, validate on 1464 samples\n",
      "Epoch 1/30\n",
      "13176/13176 [==============================] - 50s 4ms/sample - loss: 0.7301 - accuracy: 0.6916 - val_loss: 0.5593 - val_accuracy: 0.7896\n",
      "Epoch 2/30\n",
      "13176/13176 [==============================] - 36s 3ms/sample - loss: 0.4698 - accuracy: 0.8235 - val_loss: 0.4851 - val_accuracy: 0.8142\n",
      "Epoch 3/30\n",
      "13176/13176 [==============================] - 39s 3ms/sample - loss: 0.3407 - accuracy: 0.8794 - val_loss: 0.5092 - val_accuracy: 0.7985\n",
      "Epoch 4/30\n",
      "13176/13176 [==============================] - 39s 3ms/sample - loss: 0.2431 - accuracy: 0.9169 - val_loss: 0.5560 - val_accuracy: 0.8005\n",
      "Epoch 5/30\n",
      "13176/13176 [==============================] - 35s 3ms/sample - loss: 0.1859 - accuracy: 0.9360 - val_loss: 0.5688 - val_accuracy: 0.8005\n",
      "Epoch 6/30\n",
      "13176/13176 [==============================] - 31s 2ms/sample - loss: 0.1456 - accuracy: 0.9510 - val_loss: 0.6231 - val_accuracy: 0.8019\n",
      "Epoch 7/30\n",
      "13176/13176 [==============================] - 31s 2ms/sample - loss: 0.1168 - accuracy: 0.9620 - val_loss: 0.6900 - val_accuracy: 0.7937\n",
      "Epoch 8/30\n",
      "13176/13176 [==============================] - 29s 2ms/sample - loss: 0.0971 - accuracy: 0.9683 - val_loss: 0.7287 - val_accuracy: 0.7773\n",
      "Epoch 9/30\n",
      "13176/13176 [==============================] - 27s 2ms/sample - loss: 0.0872 - accuracy: 0.9715 - val_loss: 0.7478 - val_accuracy: 0.7821\n",
      "Epoch 10/30\n",
      "13176/13176 [==============================] - 17s 1ms/sample - loss: 0.0733 - accuracy: 0.9766 - val_loss: 0.8229 - val_accuracy: 0.7684\n",
      "Epoch 11/30\n",
      "13176/13176 [==============================] - 17s 1ms/sample - loss: 0.0638 - accuracy: 0.9794 - val_loss: 0.8476 - val_accuracy: 0.7876\n",
      "Epoch 12/30\n",
      "13176/13176 [==============================] - 17s 1ms/sample - loss: 0.0570 - accuracy: 0.9844 - val_loss: 0.8579 - val_accuracy: 0.7684\n",
      "Epoch 13/30\n",
      "13176/13176 [==============================] - 17s 1ms/sample - loss: 0.0489 - accuracy: 0.9850 - val_loss: 0.8806 - val_accuracy: 0.7930\n",
      "Epoch 14/30\n",
      "13176/13176 [==============================] - 17s 1ms/sample - loss: 0.0496 - accuracy: 0.9849 - val_loss: 0.9706 - val_accuracy: 0.7705\n",
      "Epoch 15/30\n",
      "13176/13176 [==============================] - 17s 1ms/sample - loss: 0.0484 - accuracy: 0.9842 - val_loss: 0.8921 - val_accuracy: 0.7842\n",
      "Epoch 16/30\n",
      "13176/13176 [==============================] - 17s 1ms/sample - loss: 0.0435 - accuracy: 0.9860 - val_loss: 0.9583 - val_accuracy: 0.7801\n",
      "Epoch 17/30\n",
      "13176/13176 [==============================] - 17s 1ms/sample - loss: 0.0432 - accuracy: 0.9861 - val_loss: 1.0966 - val_accuracy: 0.7691\n",
      "Epoch 18/30\n",
      "13176/13176 [==============================] - 17s 1ms/sample - loss: 0.0381 - accuracy: 0.9879 - val_loss: 0.9912 - val_accuracy: 0.7725\n",
      "Epoch 19/30\n",
      "13176/13176 [==============================] - 17s 1ms/sample - loss: 0.0371 - accuracy: 0.9889 - val_loss: 0.9733 - val_accuracy: 0.7883\n",
      "Epoch 20/30\n",
      "13176/13176 [==============================] - 17s 1ms/sample - loss: 0.0364 - accuracy: 0.9888 - val_loss: 1.0959 - val_accuracy: 0.7760\n",
      "Epoch 21/30\n",
      "13176/13176 [==============================] - 17s 1ms/sample - loss: 0.0349 - accuracy: 0.9898 - val_loss: 1.0042 - val_accuracy: 0.7835\n",
      "Epoch 22/30\n",
      "13176/13176 [==============================] - 17s 1ms/sample - loss: 0.0367 - accuracy: 0.9885 - val_loss: 1.0137 - val_accuracy: 0.7766\n",
      "Epoch 23/30\n",
      "13176/13176 [==============================] - 17s 1ms/sample - loss: 0.0286 - accuracy: 0.9907 - val_loss: 1.1817 - val_accuracy: 0.7739\n",
      "Epoch 24/30\n",
      "13176/13176 [==============================] - 17s 1ms/sample - loss: 0.0299 - accuracy: 0.9907 - val_loss: 1.1753 - val_accuracy: 0.7814\n",
      "Epoch 25/30\n",
      "13176/13176 [==============================] - 17s 1ms/sample - loss: 0.0286 - accuracy: 0.9910 - val_loss: 1.1426 - val_accuracy: 0.7848\n",
      "Epoch 26/30\n",
      "13176/13176 [==============================] - 17s 1ms/sample - loss: 0.0307 - accuracy: 0.9912 - val_loss: 1.1513 - val_accuracy: 0.7705\n",
      "Epoch 27/30\n",
      "13176/13176 [==============================] - 16s 1ms/sample - loss: 0.0308 - accuracy: 0.9907 - val_loss: 1.2096 - val_accuracy: 0.7766\n",
      "Epoch 28/30\n",
      "13176/13176 [==============================] - 17s 1ms/sample - loss: 0.0312 - accuracy: 0.9904 - val_loss: 1.1004 - val_accuracy: 0.7712\n",
      "Epoch 29/30\n",
      "13176/13176 [==============================] - 17s 1ms/sample - loss: 0.0271 - accuracy: 0.9917 - val_loss: 1.1931 - val_accuracy: 0.7719\n",
      "Epoch 30/30\n",
      "13176/13176 [==============================] - 17s 1ms/sample - loss: 0.0242 - accuracy: 0.9924 - val_loss: 1.1551 - val_accuracy: 0.7746\n"
     ]
    }
   ],
   "source": [
    "model = tf.keras.Sequential([\n",
    "    tf.keras.layers.Embedding(vocab_size+1, embedding_dim, input_length=max_length),\n",
    "    tf.keras.layers.Dropout(0.5),\n",
    "    tf.keras.layers.Conv1D(64, 5, activation='relu'),\n",
    "    tf.keras.layers.MaxPooling1D(pool_size=4),\n",
    "    tf.keras.layers.Bidirectional(tf.keras.layers.LSTM(32)),\n",
    "    tf.keras.layers.Dropout(0.5),\n",
    "    tf.keras.layers.Dense(3, activation='softmax')\n",
    "])\n",
    "model.compile(loss='sparse_categorical_crossentropy',optimizer='adam',metrics=['accuracy'])\n",
    "model.summary()\n",
    "\n",
    "num_epochs = 30\n",
    "\n",
    "history = model.fit(padded_training, training_labels, epochs=num_epochs, validation_data=(padded_test, test_labels))"
   ]
  },
  {
   "cell_type": "markdown",
   "metadata": {},
   "source": [
    "## 4. Study the trend of loss and accuracy as number of epochs increases\n",
    "\n",
    "Below loss and accuracy were plotted for both training data and validation data as function os number of epochs. It is clear that accuracy of validation set has not gone up significantly after ~5 epochs. "
   ]
  },
  {
   "cell_type": "code",
   "execution_count": 8,
   "metadata": {},
   "outputs": [
    {
     "data": {
      "text/plain": [
       "<Figure size 432x288 with 0 Axes>"
      ]
     },
     "execution_count": 8,
     "metadata": {},
     "output_type": "execute_result"
    },
    {
     "data": {
      "image/png": "[encoded data removed]",
      "text/plain": [
       "<Figure size 432x288 with 1 Axes>"
      ]
     },
     "metadata": {
      "needs_background": "light"
     },
     "output_type": "display_data"
    },
    {
     "data": {
      "image/png": "[encoded data removed]",
      "text/plain": [
       "<Figure size 432x288 with 1 Axes>"
      ]
     },
     "metadata": {
      "needs_background": "light"
     },
     "output_type": "display_data"
    },
    {
     "data": {
      "text/plain": [
       "<Figure size 432x288 with 0 Axes>"
      ]
     },
     "metadata": {},
     "output_type": "display_data"
    }
   ],
   "source": [
    "import matplotlib.pyplot as plt\n",
    "\n",
    "\n",
    "acc=history.history['accuracy']\n",
    "val_acc=history.history['val_accuracy']\n",
    "loss=history.history['loss']\n",
    "val_loss=history.history['val_loss']\n",
    "\n",
    "epochs=range(len(acc))\n",
    "\n",
    "#plot accuracy for traiing set and validation set vs number of epochs\n",
    "plt.plot(epochs, acc, 'r')\n",
    "plt.plot(epochs, val_acc, 'b')\n",
    "plt.title('Trainig and Validation Accuracy')\n",
    "plt.xlabel('Number of Epochs')\n",
    "plt.ylabel('Accuracy')\n",
    "plt.legend(['Training Accuracy', 'Validation Accuracy'])\n",
    "\n",
    "plt.figure()\n",
    "\n",
    "# Plot loss for training set and validation set vs number of epochs\n",
    "plt.plot(epochs, loss, 'r')\n",
    "plt.plot(epochs, val_loss, 'b')\n",
    "plt.title('Trainig and Validation Loss')\n",
    "plt.xlabel('Number of Epochs')\n",
    "plt.ylabel('Loss')\n",
    "plt.legend(['Training Loss', 'Validation Loss'])\n",
    "\n",
    "plt.figure()\n"
   ]
  },
  {
   "cell_type": "markdown",
   "metadata": {},
   "source": [
    "## 5. References\n",
    "Coursera Course by deeplearning.ai: Natural Language Processing in TensorFlow https://www.coursera.org/learn/natural-language-processing-tensorflow/home/welcome\n",
    "\n",
    "Kaggle Data: Twitter US Airline Sentiment-Analyze how travelers in February 2015 expressed their feelings on Twitter: https://www.kaggle.com/crowdflower/twitter-airline-sentiment"
   ]
  }
 ],
 "metadata": {
  "kernelspec": {
   "display_name": "Python [conda env:py3-TF2.0]",
   "language": "python",
   "name": "conda-env-py3-TF2.0-py"
  },
  "language_info": {
   "codemirror_mode": {
    "name": "ipython",
    "version": 3
   },
   "file_extension": ".py",
   "mimetype": "text/x-python",
   "name": "python",
   "nbconvert_exporter": "python",
   "pygments_lexer": "ipython3",
   "version": "3.7.7"
  }
 },
 "nbformat": 4,
 "nbformat_minor": 2
}
